{
 "cells": [
  {
   "cell_type": "code",
   "execution_count": 8,
   "id": "da762307",
   "metadata": {},
   "outputs": [],
   "source": [
    "from babydragon.memory.threads.base_thread import BaseThread\n",
    "import polars as pl\n"
   ]
  },
  {
   "cell_type": "code",
   "execution_count": 2,
   "id": "81309932",
   "metadata": {},
   "outputs": [],
   "source": [
    "test = BaseThread()"
   ]
  },
  {
   "cell_type": "code",
   "execution_count": 14,
   "id": "0becc4d1",
   "metadata": {},
   "outputs": [],
   "source": [
    "test.load(f'test.parquet')"
   ]
  },
  {
   "cell_type": "code",
   "execution_count": 20,
   "id": "9c92d84b",
   "metadata": {},
   "outputs": [
    {
     "data": {
      "text/plain": [
       "[{'conversation_id': '3ae55b46-cab7-4d78-a219-6d1e4dec6eae',\n",
       "  'conversation_title': 'Crates'},\n",
       " {'conversation_id': '5aa5603a-e5a8-41b5-a8ad-fea687385bbf',\n",
       "  'conversation_title': 'Asyncio vs. Multithreading'},\n",
       " {'conversation_id': '984bf6e3-ef42-4e86-bd76-559cf5ae4d92',\n",
       "  'conversation_title': 'Django Models'},\n",
       " {'conversation_id': '7f60cf27-a9af-4e5e-a7c8-c7072437e016',\n",
       "  'conversation_title': 'Draghetto ASCII Art.'},\n",
       " {'conversation_id': 'c69b89eb-da36-4f57-8f40-cd8c15ce6c60',\n",
       "  'conversation_title': 'Sviluppo app desktop Tauri'},\n",
       " {'conversation_id': 'c9461db4-a7e2-4e21-b3b1-f4eeda3a86b2',\n",
       "  'conversation_title': 'Scraping con Beautiful Soup'},\n",
       " {'conversation_id': 'b8d0dc09-9066-499c-af24-90ea8efc9f66',\n",
       "  'conversation_title': 'Index Concepts'},\n",
       " {'conversation_id': '34e9eb34-9a58-4360-ae3a-9b71251b30c1',\n",
       "  'conversation_title': 'Traduzioni GPT 3.5'},\n",
       " {'conversation_id': 'd90ce94e-bb3e-4d63-8329-3eb4eb3d1dd2',\n",
       "  'conversation_title': 'Obsidian'},\n",
       " {'conversation_id': '2f4ba499-ad84-40d9-aa06-a953708defbb',\n",
       "  'conversation_title': 'Rust'},\n",
       " {'conversation_id': '4e6face3-41d3-4da1-8dee-63ff276638e6',\n",
       "  'conversation_title': 'Lua/Neovim GPT-4'},\n",
       " {'conversation_id': 'd60727fe-d61f-4ea6-b39c-6420fb19b082',\n",
       "  'conversation_title': 'Sharing Props in React'},\n",
       " {'conversation_id': '277f9769-16e0-4286-99d0-5517f0540ad0',\n",
       "  'conversation_title': 'Web Project Assistance.'},\n",
       " {'conversation_id': 'c4e9d803-c1e0-49b1-9a0e-0f6d36ed0046',\n",
       "  'conversation_title': 'Dragon DB'},\n",
       " {'conversation_id': '443327d9-9a3b-4e63-8a08-169bb57394f7',\n",
       "  'conversation_title': 'Sidebar Navigation Menu.'},\n",
       " {'conversation_id': '23d1a514-a156-4722-ba4c-675d174ac7e9',\n",
       "  'conversation_title': 'Tailwind'},\n",
       " {'conversation_id': '7e2d079a-0461-4135-8f5f-4fb6fbb03253',\n",
       "  'conversation_title': 'NextJs & Supabase Guide.'},\n",
       " {'conversation_id': '4918fd34-0af5-4635-9a15-2a26522079d8',\n",
       "  'conversation_title': 'FastAPI for building APIs'},\n",
       " {'conversation_id': '2c6a161c-e1b2-49fd-808d-1ec4ea97f1b8',\n",
       "  'conversation_title': 'Messaging function in grafi'},\n",
       " {'conversation_id': 'd0759420-6798-4c25-a6b4-b24a8d9a9b1f',\n",
       "  'conversation_title': 'ES Module in JavaScript'},\n",
       " {'conversation_id': 'e9124e91-ef42-4234-8e4e-3fc692c255df',\n",
       "  'conversation_title': 'Cultura Generale'},\n",
       " {'conversation_id': '770b606d-9a73-4e60-ba32-137d660fe456',\n",
       "  'conversation_title': 'Polars'},\n",
       " {'conversation_id': 'c9b03893-7e21-425e-a833-7688c87ead93',\n",
       "  'conversation_title': 'Neovim GPT-4'},\n",
       " {'conversation_id': '5f5be55a-78a8-4ccb-a86c-8ac6ab807ae6',\n",
       "  'conversation_title': 'React/Zustand GPT-4 Deprecated'},\n",
       " {'conversation_id': '6566b34c-7e68-48b4-b2e9-2a7b780ce18f',\n",
       "  'conversation_title': 'Plugin Vite-tsconfig-paths percorso degli import'},\n",
       " {'conversation_id': '2d99d6a4-b5d9-4078-9188-aaeffaf2d14e',\n",
       "  'conversation_title': 'Riconoscimento lingua codice'},\n",
       " {'conversation_id': 'cc43846c-01b6-4a85-8c45-b4def0ab763b',\n",
       "  'conversation_title': 'Django REST API'},\n",
       " {'conversation_id': '4d70eacf-3733-465a-9a2b-de533f99f12a',\n",
       "  'conversation_title': 'Portoghese GPT 4'},\n",
       " {'conversation_id': 'ec647db3-18f3-4372-bf6c-b3d6aec23d12',\n",
       "  'conversation_title': 'Linux Video Editing Software'},\n",
       " {'conversation_id': '19766bd1-7a17-4a3e-880f-195e43f493cd',\n",
       "  'conversation_title': 'Discord Bot One-Channel Setup.'},\n",
       " {'conversation_id': 'e8063d95-e6f8-42f7-8f3a-20d924ee3e77',\n",
       "  'conversation_title': 'Zustand/Formik GPT-4'},\n",
       " {'conversation_id': '42b78143-4cf7-4dc9-b288-9fefc6a613b0',\n",
       "  'conversation_title': 'di memoria, coscienza e distinzione di genere'},\n",
       " {'conversation_id': '788318a9-b480-4b50-bda6-9c66aafdf39d',\n",
       "  'conversation_title': 'CV Update Assistance'},\n",
       " {'conversation_id': 'd76e27d2-77db-4223-9cd4-8725b64042f9',\n",
       "  'conversation_title': 'Regex per corrispondenze numeriche'},\n",
       " {'conversation_id': 'b079a3fe-05a0-407f-8f20-39054de61b4a',\n",
       "  'conversation_title': 'Docker/Nginx'},\n",
       " {'conversation_id': 'd29028ba-4fa2-4518-a14a-9908ee6bab32',\n",
       "  'conversation_title': 'Reverse proxy server.'},\n",
       " {'conversation_id': '13eac8fe-b0e3-42ce-b2b3-cebcb93f7371',\n",
       "  'conversation_title': 'Plots'},\n",
       " {'conversation_id': '270f2242-b539-4c92-ba8f-adb2abcbad98',\n",
       "  'conversation_title': 'Papers Translator'},\n",
       " {'conversation_id': 'b3f0e62b-f7ae-4e6f-a0e0-fa6421728148',\n",
       "  'conversation_title': 'GPT-3 su Azure'},\n",
       " {'conversation_id': '956b3cf1-dc86-493e-a145-94130d5bc8dd',\n",
       "  'conversation_title': 'Personalizzazione Tailwind in React'},\n",
       " {'conversation_id': '7d0269fb-0c26-4ab8-a742-0bb305b7b5a8',\n",
       "  'conversation_title': 'Controllo versione python virtualenv'},\n",
       " {'conversation_id': '6a322d7b-e565-4bbf-bc79-1ba6af49a904',\n",
       "  'conversation_title': 'Imparare Redis.'},\n",
       " {'conversation_id': 'bb62bdb7-4236-423f-a5cf-ec64b9a473eb',\n",
       "  'conversation_title': 'Tailwind GPT-4'},\n",
       " {'conversation_id': 'e9cc41a4-5404-4d3d-b370-c0a5f1cf6350',\n",
       "  'conversation_title': 'PySpark GPT 3.5'},\n",
       " {'conversation_id': '172c7700-3d03-4642-9b50-4ff96251da27',\n",
       "  'conversation_title': 'AI Assistance for Recruitment.'},\n",
       " {'conversation_id': '93408a99-be47-4e79-95f0-1ef58e7cc9e4',\n",
       "  'conversation_title': 'Help Request: Assistance Needed.'},\n",
       " {'conversation_id': '59512871-38ff-4b4a-8304-c047373b8133',\n",
       "  'conversation_title': 'gdr'}]"
      ]
     },
     "execution_count": 20,
     "metadata": {},
     "output_type": "execute_result"
    }
   ],
   "source": [
    "test.memory_thread.select(\"conversation_id\",\"conversation_title\").unique().to_dicts()"
   ]
  }
 ],
 "metadata": {
  "kernelspec": {
   "display_name": "Python 3 (ipykernel)",
   "language": "python",
   "name": "python3"
  },
  "language_info": {
   "codemirror_mode": {
    "name": "ipython",
    "version": 3
   },
   "file_extension": ".py",
   "mimetype": "text/x-python",
   "name": "python",
   "nbconvert_exporter": "python",
   "pygments_lexer": "ipython3",
   "version": "3.11.3"
  }
 },
 "nbformat": 4,
 "nbformat_minor": 5
}
